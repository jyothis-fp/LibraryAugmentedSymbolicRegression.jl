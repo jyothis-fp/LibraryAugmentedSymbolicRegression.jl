{
 "cells": [
  {
   "cell_type": "code",
   "execution_count": 3,
   "metadata": {},
   "outputs": [
    {
     "ename": "ArgumentError",
     "evalue": "ArgumentError: Package matplotlib not found in current path.\n- Run `import Pkg; Pkg.add(\"matplotlib\")` to install the matplotlib package.",
     "output_type": "error",
     "traceback": [
      "ArgumentError: Package matplotlib not found in current path.\n",
      "- Run `import Pkg; Pkg.add(\"matplotlib\")` to install the matplotlib package.\n",
      "\n",
      "Stacktrace:\n",
      "  [1] macro expansion\n",
      "    @ Base ./loading.jl:1766 [inlined]\n",
      "  [2] macro expansion\n",
      "    @ Base ./lock.jl:267 [inlined]\n",
      "  [3] __require(into::Module, mod::Symbol)\n",
      "    @ Base ./loading.jl:1747\n",
      "  [4] #invoke_in_world#3\n",
      "    @ Base ./essentials.jl:921 [inlined]\n",
      "  [5] invoke_in_world\n",
      "    @ Base ./essentials.jl:918 [inlined]\n",
      "  [6] require(into::Module, mod::Symbol)\n",
      "    @ Base ./loading.jl:1740\n",
      "  [7] eval\n",
      "    @ ./boot.jl:385 [inlined]\n",
      "  [8] include_string(mapexpr::typeof(REPL.softscope), mod::Module, code::String, filename::String)\n",
      "    @ Base ./loading.jl:2070\n",
      "  [9] #invokelatest#2\n",
      "    @ ./essentials.jl:887 [inlined]\n",
      " [10] invokelatest\n",
      "    @ ./essentials.jl:884 [inlined]\n",
      " [11] (::VSCodeServer.var\"#219#220\"{VSCodeServer.NotebookRunCellArguments, String})()\n",
      "    @ VSCodeServer ~/.vscode-server/extensions/julialang.language-julia-1.79.2/scripts/packages/VSCodeServer/src/serve_notebook.jl:19\n",
      " [12] withpath(f::VSCodeServer.var\"#219#220\"{VSCodeServer.NotebookRunCellArguments, String}, path::String)\n",
      "    @ VSCodeServer ~/.vscode-server/extensions/julialang.language-julia-1.79.2/scripts/packages/VSCodeServer/src/repl.jl:276\n",
      " [13] notebook_runcell_request(conn::VSCodeServer.JSONRPC.JSONRPCEndpoint{Base.PipeEndpoint, Base.PipeEndpoint}, params::VSCodeServer.NotebookRunCellArguments)\n",
      "    @ VSCodeServer ~/.vscode-server/extensions/julialang.language-julia-1.79.2/scripts/packages/VSCodeServer/src/serve_notebook.jl:13\n",
      " [14] dispatch_msg(x::VSCodeServer.JSONRPC.JSONRPCEndpoint{Base.PipeEndpoint, Base.PipeEndpoint}, dispatcher::VSCodeServer.JSONRPC.MsgDispatcher, msg::Dict{String, Any})\n",
      "    @ VSCodeServer.JSONRPC ~/.vscode-server/extensions/julialang.language-julia-1.79.2/scripts/packages/JSONRPC/src/typed.jl:67\n",
      " [15] serve_notebook(pipename::String, outputchannel_logger::Base.CoreLogging.SimpleLogger; crashreporting_pipename::String)\n",
      "    @ VSCodeServer ~/.vscode-server/extensions/julialang.language-julia-1.79.2/scripts/packages/VSCodeServer/src/serve_notebook.jl:139\n",
      " [16] top-level scope\n",
      "    @ ~/.vscode-server/extensions/julialang.language-julia-1.79.2/scripts/notebook/notebook.jl:35"
     ]
    }
   ],
   "source": [
    "path1 = \"/home/ubuntu/llm-sr/ablation_results_foundry/logs/exp17/\" # 14\n",
    "path2 = \"/home/ubuntu/llm-sr/ablation_results_foundry/logs/exp15/\" # 15\n",
    "path3 = \"/home/ubuntu/llm-sr/ablation_results_foundry/logs/exp16/\" # 16\n",
    "path4 = \"/home/ubuntu/llm-sr/ablation_results_foundry/logs/exp1/\"\n",
    "path5 = \"/home/ubuntu/llm-sr/ablation_results_foundry/logs/exp0/\"\n",
    "path6 = \"/home/ubuntu/llm-sr/ablation_results_foundry/logs/exp18/\"\n",
    "\n",
    "# NOTE: do one graph w/ path2 - 5 and then one with path 1 + 2 and 5\n",
    "tasks = {\n",
    "    path1: \"Llama3 - 0.1% - Hints\",\n",
    "    path2: \"Llama3 - 0.1%\",\n",
    "    path3: \"Llama3 - 0.1% - No Concept Evol\",\n",
    "    path4: \"Llama3 - 0.1% - No Vars\",\n",
    "    path5: \"PySR\",\n",
    "    # path6: \"Llama3 - 0.1% - No Concept Crossover\",\n",
    "}\n"
   ]
  },
  {
   "cell_type": "code",
   "execution_count": 2,
   "metadata": {},
   "outputs": [
    {
     "ename": "UndefVarError",
     "evalue": "UndefVarError: `def` not defined",
     "output_type": "error",
     "traceback": [
      "UndefVarError: `def` not defined\n"
     ]
    }
   ],
   "source": [
    "num_steps = 40\n",
    "num_eq = 100\n",
    "\n",
    "def process(path, N=100):\n",
    "    out = dict()\n",
    "    for i in range(N):\n",
    "        file = open(path + str(i) + \"/n_iterations.txt\", \"r\")\n",
    "        lines = file.readlines()\n",
    "\n",
    "        if len(lines) < 4:\n",
    "            res = ' '\n",
    "        else:\n",
    "            res = lines[3]\n",
    "\n",
    "        if res[0] != '-':\n",
    "            res = 1\n",
    "        else:\n",
    "            res = int(res[1:].strip())\n",
    "\n",
    "        if res not in out:\n",
    "            out[res] = 0\n",
    "        out[res] += 1\n",
    "\n",
    "        file.close()\n",
    "\n",
    "    y = list()\n",
    "    x = 0\n",
    "    for v in range(num_steps):\n",
    "        if v in out:\n",
    "            x += out[v]\n",
    "        y.append(x)\n",
    "    return y\n",
    "\n",
    "import matplotlib.pyplot as plt\n",
    "\n",
    "for x in tasks:\n",
    "    plt.plot(list(range(num_steps)), process(x, N=num_eq), label = tasks[x]) \n",
    "\n",
    "plt.ylim(0, num_eq)\n",
    "plt.legend() \n",
    "plt.savefig(\"iter_graph.png\")\n",
    "plt.close()\n",
    "\n"
   ]
  },
  {
   "cell_type": "code",
   "execution_count": null,
   "metadata": {},
   "outputs": [],
   "source": []
  }
 ],
 "metadata": {
  "kernelspec": {
   "display_name": "Julia 1.10.0",
   "language": "julia",
   "name": "julia-1.10"
  },
  "language_info": {
   "file_extension": ".jl",
   "mimetype": "application/julia",
   "name": "julia",
   "version": "1.10.0"
  }
 },
 "nbformat": 4,
 "nbformat_minor": 2
}
